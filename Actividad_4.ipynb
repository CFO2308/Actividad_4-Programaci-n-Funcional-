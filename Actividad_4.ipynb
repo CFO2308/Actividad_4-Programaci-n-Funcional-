{
 "cells": [
  {
   "cell_type": "code",
   "execution_count": 1,
   "metadata": {},
   "outputs": [],
   "source": [
    "import pandas as pd\n",
    "import numpy as np \n",
    "import matplotlib.pyplot as plt\n",
    "import Carlos as cs"
   ]
  },
  {
   "cell_type": "code",
   "execution_count": 2,
   "metadata": {},
   "outputs": [],
   "source": [
    "df=cs.cargar_dataset('Mexico.csv')"
   ]
  },
  {
   "cell_type": "code",
   "execution_count": 3,
   "metadata": {},
   "outputs": [
    {
     "name": "stdout",
     "output_type": "stream",
     "text": [
      "<class 'pandas.core.frame.DataFrame'>\n",
      "RangeIndex: 26281 entries, 0 to 26280\n",
      "Data columns (total 18 columns):\n",
      " #   Column                          Non-Null Count  Dtype  \n",
      "---  ------                          --------------  -----  \n",
      " 0   id                              26281 non-null  int64  \n",
      " 1   name                            26281 non-null  object \n",
      " 2   host_id                         26281 non-null  int64  \n",
      " 3   host_name                       26278 non-null  object \n",
      " 4   neighbourhood_group             0 non-null      float64\n",
      " 5   neighbourhood                   26281 non-null  object \n",
      " 6   latitude                        26281 non-null  float64\n",
      " 7   longitude                       26281 non-null  float64\n",
      " 8   room_type                       26281 non-null  object \n",
      " 9   price                           22466 non-null  float64\n",
      " 10  minimum_nights                  26281 non-null  int64  \n",
      " 11  number_of_reviews               26281 non-null  int64  \n",
      " 12  last_review                     22985 non-null  object \n",
      " 13  reviews_per_month               22985 non-null  float64\n",
      " 14  calculated_host_listings_count  26281 non-null  int64  \n",
      " 15  availability_365                26281 non-null  int64  \n",
      " 16  number_of_reviews_ltm           26281 non-null  int64  \n",
      " 17  license                         0 non-null      float64\n",
      "dtypes: float64(6), int64(7), object(5)\n",
      "memory usage: 3.6+ MB\n"
     ]
    }
   ],
   "source": [
    "df.info()"
   ]
  },
  {
   "cell_type": "code",
   "execution_count": 4,
   "metadata": {},
   "outputs": [
    {
     "data": {
      "text/plain": [
       "('Valores nulos por columna',\n",
       " id                                    0\n",
       " name                                  0\n",
       " host_id                               0\n",
       " host_name                             3\n",
       " neighbourhood_group               26281\n",
       " neighbourhood                         0\n",
       " latitude                              0\n",
       " longitude                             0\n",
       " room_type                             0\n",
       " price                              3815\n",
       " minimum_nights                        0\n",
       " number_of_reviews                     0\n",
       " last_review                        3296\n",
       " reviews_per_month                  3296\n",
       " calculated_host_listings_count        0\n",
       " availability_365                      0\n",
       " number_of_reviews_ltm                 0\n",
       " license                           26281\n",
       " dtype: int64,\n",
       " 'Valores nulos por dataframe',\n",
       " np.int64(62972))"
      ]
     },
     "execution_count": 4,
     "metadata": {},
     "output_type": "execute_result"
    }
   ],
   "source": [
    "cs.cuenta_valores_nulos(df) "
   ]
  },
  {
   "cell_type": "code",
   "execution_count": 5,
   "metadata": {},
   "outputs": [
    {
     "name": "stderr",
     "output_type": "stream",
     "text": [
      "/Users/carlosfonseca/Desktop/TEC UNI 6 SEMESTRE/Analisis de datos 1/UF1. Mtro Alfredo/Archivos de apoyo/Ejercicios/4_funciones/Tarea_4/Carlos.py:45: FutureWarning: Series.fillna with 'method' is deprecated and will raise in a future version. Use obj.ffill() or obj.bfill() instead.\n",
      "  dataframe[col] = dataframe[col].fillna(method=\"bfill\")\n"
     ]
    }
   ],
   "source": [
    "df = cs.sustitucion_bfill(df, [\"reviews_per_month\"])"
   ]
  },
  {
   "cell_type": "code",
   "execution_count": 6,
   "metadata": {},
   "outputs": [
    {
     "data": {
      "text/plain": [
       "('Valores nulos por columna',\n",
       " id                                    0\n",
       " name                                  0\n",
       " host_id                               0\n",
       " host_name                             3\n",
       " neighbourhood_group               26281\n",
       " neighbourhood                         0\n",
       " latitude                              0\n",
       " longitude                             0\n",
       " room_type                             0\n",
       " price                              3815\n",
       " minimum_nights                        0\n",
       " number_of_reviews                     0\n",
       " last_review                        3296\n",
       " reviews_per_month                    66\n",
       " calculated_host_listings_count        0\n",
       " availability_365                      0\n",
       " number_of_reviews_ltm                 0\n",
       " license                           26281\n",
       " dtype: int64,\n",
       " 'Valores nulos por dataframe',\n",
       " np.int64(59742))"
      ]
     },
     "execution_count": 6,
     "metadata": {},
     "output_type": "execute_result"
    }
   ],
   "source": [
    "cs.cuenta_valores_nulos(df) "
   ]
  },
  {
   "cell_type": "code",
   "execution_count": 7,
   "metadata": {},
   "outputs": [
    {
     "name": "stderr",
     "output_type": "stream",
     "text": [
      "/Users/carlosfonseca/Desktop/TEC UNI 6 SEMESTRE/Analisis de datos 1/UF1. Mtro Alfredo/Archivos de apoyo/Ejercicios/4_funciones/Tarea_4/Carlos.py:37: FutureWarning: Series.fillna with 'method' is deprecated and will raise in a future version. Use obj.ffill() or obj.bfill() instead.\n",
      "  dataframe[col] = dataframe[col].fillna(method=\"ffill\")\n"
     ]
    }
   ],
   "source": [
    "df = cs.sustitucion_ffill(df, [\"reviews_per_month\"])"
   ]
  },
  {
   "cell_type": "code",
   "execution_count": 8,
   "metadata": {},
   "outputs": [
    {
     "data": {
      "text/plain": [
       "('Valores nulos por columna',\n",
       " id                                    0\n",
       " name                                  0\n",
       " host_id                               0\n",
       " host_name                             3\n",
       " neighbourhood_group               26281\n",
       " neighbourhood                         0\n",
       " latitude                              0\n",
       " longitude                             0\n",
       " room_type                             0\n",
       " price                              3815\n",
       " minimum_nights                        0\n",
       " number_of_reviews                     0\n",
       " last_review                        3296\n",
       " reviews_per_month                     0\n",
       " calculated_host_listings_count        0\n",
       " availability_365                      0\n",
       " number_of_reviews_ltm                 0\n",
       " license                           26281\n",
       " dtype: int64,\n",
       " 'Valores nulos por dataframe',\n",
       " np.int64(59676))"
      ]
     },
     "execution_count": 8,
     "metadata": {},
     "output_type": "execute_result"
    }
   ],
   "source": [
    "cs.cuenta_valores_nulos(df) "
   ]
  },
  {
   "cell_type": "code",
   "execution_count": 13,
   "metadata": {},
   "outputs": [],
   "source": [
    "df = cs.sustitucion_constante(df, [\"neighbourhood_group\"])"
   ]
  },
  {
   "cell_type": "code",
   "execution_count": 14,
   "metadata": {},
   "outputs": [
    {
     "data": {
      "text/plain": [
       "('Valores nulos por columna',\n",
       " id                                    0\n",
       " name                                  0\n",
       " host_id                               0\n",
       " host_name                             3\n",
       " neighbourhood_group                   0\n",
       " neighbourhood                         0\n",
       " latitude                              0\n",
       " longitude                             0\n",
       " room_type                             0\n",
       " price                              3815\n",
       " minimum_nights                        0\n",
       " number_of_reviews                     0\n",
       " last_review                        3296\n",
       " reviews_per_month                     0\n",
       " calculated_host_listings_count        0\n",
       " availability_365                      0\n",
       " number_of_reviews_ltm                 0\n",
       " license                           26281\n",
       " dtype: int64,\n",
       " 'Valores nulos por dataframe',\n",
       " np.int64(33395))"
      ]
     },
     "execution_count": 14,
     "metadata": {},
     "output_type": "execute_result"
    }
   ],
   "source": [
    "cs.cuenta_valores_nulos(df) "
   ]
  },
  {
   "cell_type": "code",
   "execution_count": 19,
   "metadata": {},
   "outputs": [],
   "source": [
    "df = cs.sustitucion_mediana(df, [\"price\"])"
   ]
  },
  {
   "cell_type": "code",
   "execution_count": 20,
   "metadata": {},
   "outputs": [
    {
     "data": {
      "text/plain": [
       "('Valores nulos por columna',\n",
       " id                                    0\n",
       " name                                  0\n",
       " host_id                               0\n",
       " host_name                             3\n",
       " neighbourhood_group                   0\n",
       " neighbourhood                         0\n",
       " latitude                              0\n",
       " longitude                             0\n",
       " room_type                             0\n",
       " price                                 0\n",
       " minimum_nights                        0\n",
       " number_of_reviews                     0\n",
       " last_review                        3296\n",
       " reviews_per_month                     0\n",
       " calculated_host_listings_count        0\n",
       " availability_365                      0\n",
       " number_of_reviews_ltm                 0\n",
       " license                           26281\n",
       " dtype: int64,\n",
       " 'Valores nulos por dataframe',\n",
       " np.int64(29580))"
      ]
     },
     "execution_count": 20,
     "metadata": {},
     "output_type": "execute_result"
    }
   ],
   "source": [
    "cs.cuenta_valores_nulos(df) "
   ]
  },
  {
   "cell_type": "code",
   "execution_count": 27,
   "metadata": {},
   "outputs": [],
   "source": [
    "df = cs.sustitucion_string_concreto(df, [\"last_review\"])"
   ]
  },
  {
   "cell_type": "code",
   "execution_count": 28,
   "metadata": {},
   "outputs": [
    {
     "data": {
      "text/plain": [
       "('Valores nulos por columna',\n",
       " id                                    0\n",
       " name                                  0\n",
       " host_id                               0\n",
       " host_name                             3\n",
       " neighbourhood_group                   0\n",
       " neighbourhood                         0\n",
       " latitude                              0\n",
       " longitude                             0\n",
       " room_type                             0\n",
       " price                                 0\n",
       " minimum_nights                        0\n",
       " number_of_reviews                     0\n",
       " last_review                           0\n",
       " reviews_per_month                     0\n",
       " calculated_host_listings_count        0\n",
       " availability_365                      0\n",
       " number_of_reviews_ltm                 0\n",
       " license                           26281\n",
       " dtype: int64,\n",
       " 'Valores nulos por dataframe',\n",
       " np.int64(26284))"
      ]
     },
     "execution_count": 28,
     "metadata": {},
     "output_type": "execute_result"
    }
   ],
   "source": [
    "cs.cuenta_valores_nulos(df) "
   ]
  },
  {
   "cell_type": "code",
   "execution_count": 29,
   "metadata": {},
   "outputs": [],
   "source": [
    "df = cs.sustitucion_string_concreto(df, [\"host_name\"])"
   ]
  },
  {
   "cell_type": "code",
   "execution_count": 30,
   "metadata": {},
   "outputs": [
    {
     "data": {
      "text/plain": [
       "('Valores nulos por columna',\n",
       " id                                    0\n",
       " name                                  0\n",
       " host_id                               0\n",
       " host_name                             0\n",
       " neighbourhood_group                   0\n",
       " neighbourhood                         0\n",
       " latitude                              0\n",
       " longitude                             0\n",
       " room_type                             0\n",
       " price                                 0\n",
       " minimum_nights                        0\n",
       " number_of_reviews                     0\n",
       " last_review                           0\n",
       " reviews_per_month                     0\n",
       " calculated_host_listings_count        0\n",
       " availability_365                      0\n",
       " number_of_reviews_ltm                 0\n",
       " license                           26281\n",
       " dtype: int64,\n",
       " 'Valores nulos por dataframe',\n",
       " np.int64(26281))"
      ]
     },
     "execution_count": 30,
     "metadata": {},
     "output_type": "execute_result"
    }
   ],
   "source": [
    "cs.cuenta_valores_nulos(df) "
   ]
  },
  {
   "cell_type": "code",
   "execution_count": 31,
   "metadata": {},
   "outputs": [],
   "source": [
    "df = cs.sustitucion_constante(df, [\"license\"])"
   ]
  },
  {
   "cell_type": "code",
   "execution_count": 32,
   "metadata": {},
   "outputs": [
    {
     "data": {
      "text/plain": [
       "('Valores nulos por columna',\n",
       " id                                0\n",
       " name                              0\n",
       " host_id                           0\n",
       " host_name                         0\n",
       " neighbourhood_group               0\n",
       " neighbourhood                     0\n",
       " latitude                          0\n",
       " longitude                         0\n",
       " room_type                         0\n",
       " price                             0\n",
       " minimum_nights                    0\n",
       " number_of_reviews                 0\n",
       " last_review                       0\n",
       " reviews_per_month                 0\n",
       " calculated_host_listings_count    0\n",
       " availability_365                  0\n",
       " number_of_reviews_ltm             0\n",
       " license                           0\n",
       " dtype: int64,\n",
       " 'Valores nulos por dataframe',\n",
       " np.int64(0))"
      ]
     },
     "execution_count": 32,
     "metadata": {},
     "output_type": "execute_result"
    }
   ],
   "source": [
    "cs.cuenta_valores_nulos(df) "
   ]
  }
 ],
 "metadata": {
  "kernelspec": {
   "display_name": "Python 3",
   "language": "python",
   "name": "python3"
  },
  "language_info": {
   "codemirror_mode": {
    "name": "ipython",
    "version": 3
   },
   "file_extension": ".py",
   "mimetype": "text/x-python",
   "name": "python",
   "nbconvert_exporter": "python",
   "pygments_lexer": "ipython3",
   "version": "3.13.2"
  }
 },
 "nbformat": 4,
 "nbformat_minor": 2
}
